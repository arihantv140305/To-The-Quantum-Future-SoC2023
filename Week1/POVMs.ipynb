{
 "cells": [
  {
   "cell_type": "code",
   "execution_count": 13,
   "metadata": {},
   "outputs": [],
   "source": [
    "from qiskit import QuantumCircuit, transpile, execute\n",
    "from qiskit_aer import AerSimulator\n",
    "from qiskit.extensions import UnitaryGate\n",
    "from qiskit.visualization import plot_histogram, array_to_latex\n",
    "from IPython.display import display, Math\n",
    "import numpy as np"
   ]
  },
  {
   "cell_type": "code",
   "execution_count": 2,
   "metadata": {},
   "outputs": [],
   "source": [
    "sim = AerSimulator()"
   ]
  },
  {
   "attachments": {},
   "cell_type": "markdown",
   "metadata": {},
   "source": [
    "## POVM measurement statistics\n",
    "We know that we can realize any general measurement $\\{M_i\\}_{i = 1}^n$ [such that $\\sum M_i^{\\dagger}M_i = I$] as a projective measurement on a system that \n",
    "has $m$ more dimensions.\n",
    "\n",
    "This can be done by first carrying out a unitary operation on the joint system and then performing a projective measurement exclusively on the ancillary part.\n",
    "\n",
    "In this question we try and get to the measurement statistics of a POVM through another way."
   ]
  },
  {
   "attachments": {},
   "cell_type": "markdown",
   "metadata": {},
   "source": [
    "The key idea here is to note that $$\\mathrm{Pr} (outcome = m) = \\mathrm{tr} (E_m\\rho) = \\mathbb{E}_{\\rho}(E_m)$$ where $E_m = M_m^\\dagger M_m$ is an observable, and $\\mathbb{E}_\\rho(E_m)$ is the expected outcome in the _projective_ measurement of $E_m$. Please prove the aforementioned equality below.\n",
    "\n",
    "### Proof:\n",
    "The first equality is straight from the definition. Here's the proof for the second equality:\n",
    "We also know for a fact that $tr(A\\ket{\\psi}\\bra{\\psi}) = \\bra{\\psi}A\\ket{\\psi}$. Now consider the state $\\rho$ to be made up of states $\\{\\psi_i\\}$ with probability $p_i$. Now, from defintion:\n",
    "\\begin{equation}\n",
    "p(m|i) = \\bra{\\psi}E_m\\ket{\\psi} = tr(E_m\\ket{\\psi}\\bra{\\psi})\n",
    "\\end{equation}\n",
    "Where $p(m|i)$ represents probability of outcome m given state i. Now,\n",
    "\\begin{align}\n",
    "p(m) &= \\sum_i p(m|i)p_i \\nonumber \\\\\n",
    "     &= \\sum_i p_itr(E_m\\ket{\\psi}\\bra{\\psi}) \\nonumber \\\\\n",
    "     &= tr(E_m\\rho)\n",
    "\\end{align}"
   ]
  },
  {
   "attachments": {},
   "cell_type": "markdown",
   "metadata": {},
   "source": [
    "## Part 1\n",
    "So computing the measurement statistics of the measurement ${M_m}_m$ reduces to computing the expectation values in projective measurements of the $E_m$ s. How might we do this? For starters, if $E_m$ was diagonalizable in the computational basis, then we are more or less done - we must just create a huge ensemble of states in $\\rho$, measure them in the comp. basis, collect the empirical probabilities of each outcome and compute the expectation of $E_m$. But what is some $E_m$ is not diagonal in the computational basis? Well, that's trivial, measure them in that basis! - The issue here, is that measuring in the computational basis is \"easy\", but not so to measure in an arbitrary basis. We use the change of basis trick to turn the basis $|a_i\\rangle$ of $E_m$ into the computational basis by applying to $\\rho$ the unitary $U = \\sum_i |i\\rangle\\langle a_i|$. Convince yourself that measuring the new state in the computational basis gives you identical statistics as measuring the original state in the basis $|a_i\\rangle$. There you go - by modifying the state via a unitary, we can measure any $E_m$. Let's implement this in Qiskit below:"
   ]
  },
  {
   "cell_type": "code",
   "execution_count": 46,
   "metadata": {},
   "outputs": [],
   "source": [
    "def measure_obs(qckt: QuantumCircuit, obs: np.ndarray, shots=2000) -> tuple[QuantumCircuit, float]:\n",
    "    # You are given a circuit on running which leaves an initial system in state rho. Apply the change of basis matrix (look up numpy functions to compute eigenvectors) and complete the circuit by measuring it.\n",
    "\n",
    "    assert np.all(np.conjugate(obs).T == obs), 'given array is not an observable'\n",
    "    n = obs.shape[0]\n",
    "    assert 2**len(qckt.qubits) == n, 'observable not of the right size for circuit'\n",
    "    \n",
    "    evals, evecs = np.linalg.eig(obs) # you might find these useful :)\n",
    "    U = np.conjugate(evecs).T\n",
    "    qckt.unitary(U, qckt.qubits)\n",
    "    qckt.measure_all()\n",
    "\n",
    "    job = execute(qckt, sim, shots=shots)\n",
    "    result = job.result()\n",
    "    counts = result.get_counts(qckt)\n",
    "\n",
    "    print(counts)\n",
    "\n",
    "    expval = 0 # compute the expectation value of the observable by simulating the circuit for `shots` shots.\n",
    "    for o, v in counts.items():\n",
    "        p = v/shots\n",
    "        expval += p*evals[int(o)]\n",
    "    # ... your code ... #\n",
    "\n",
    "    return qckt, expval"
   ]
  },
  {
   "cell_type": "code",
   "execution_count": 50,
   "metadata": {},
   "outputs": [
    {
     "name": "stdout",
     "output_type": "stream",
     "text": [
      "{'1': 966, '0': 1034}\n",
      "0.03400000000000003\n"
     ]
    },
    {
     "data": {
      "image/png": "[encoded data removed]",
      "text/plain": [
       "<Figure size 496.776x200.667 with 1 Axes>"
      ]
     },
     "execution_count": 50,
     "metadata": {},
     "output_type": "execute_result"
    }
   ],
   "source": [
    "# a quick test - add your own.\n",
    "ckt = QuantumCircuit(1);#ckt.h(0) \n",
    "obs = np.array([[0, 1], [1, 0]]) #has |+> and |-> as eigen states with eigen values 1 and -1\n",
    "# the state of the current cicuit 1/root(2)[|+> + |->] hence expectation value is 0\n",
    "ckt, expval = measure_obs(ckt, obs)\n",
    "print(expval)\n",
    "ckt.draw('mpl')"
   ]
  },
  {
   "attachments": {},
   "cell_type": "markdown",
   "metadata": {},
   "source": [
    "## Part 2\n",
    "1. Suppose we have the following set $$\\{E_1 = \\alpha \\ket{0}\\bra{0}, E_2 = \\beta \\ket{+}\\bra{+}, E_3 = I - E_1 - E_2\\}$$\n",
    "Figure out the constraints on $\\alpha$, $\\beta$ for this to be a valid POVM.\n",
    "2. Now, suppose that Alice gives Bob a qubit which is in state $\\ket{0}$ with probability $p_1 = 0.5$ and in state $\\ket{+}$ with probability $p_2 = 0.5$. Bob performs the above POVM on it. Outcome 3 in this case corresponds to his \"Don't know\" answer.\n",
    "Use the circuit from part(1) to approximate the probability of this. Compare with the theoretical answer. [Do this for any _valid_ pair of $\\alpha, \\beta$. Play around with the values to minimize the \"Don't Know\" probability]\n",
    "\n",
    "Of course you are free to use the function above."
   ]
  }
 ],
 "metadata": {
  "kernelspec": {
   "display_name": "QiskitEnv",
   "language": "python",
   "name": "python3"
  },
  "language_info": {
   "codemirror_mode": {
    "name": "ipython",
    "version": 3
   },
   "file_extension": ".py",
   "mimetype": "text/x-python",
   "name": "python",
   "nbconvert_exporter": "python",
   "pygments_lexer": "ipython3",
   "version": "3.10.7"
  },
  "orig_nbformat": 4
 },
 "nbformat": 4,
 "nbformat_minor": 2
}
